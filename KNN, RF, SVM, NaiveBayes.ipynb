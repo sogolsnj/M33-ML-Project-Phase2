{
 "cells": [
  {
   "cell_type": "code",
   "execution_count": 216,
   "metadata": {},
   "outputs": [],
   "source": [
    "import pandas as pd\n",
    "import numpy as np\n",
    "\n",
    "from sklearn.model_selection import train_test_split, GridSearchCV\n",
    "from sklearn.pipeline import make_pipeline\n",
    "from sklearn.preprocessing import StandardScaler\n",
    "from sklearn.metrics import classification_report, confusion_matrix, ConfusionMatrixDisplay\n",
    "\n",
    "from sklearn.naive_bayes import GaussianNB\n",
    "from sklearn.neighbors import KNeighborsClassifier\n",
    "from sklearn.ensemble import RandomForestClassifier\n",
    "from sklearn.svm import SVC\n",
    "from sklearn.ensemble import StackingClassifier\n",
    "\n",
    "import matplotlib.pyplot as plt\n",
    "import seaborn as sns"
   ]
  },
  {
   "cell_type": "code",
   "execution_count": 217,
   "metadata": {},
   "outputs": [],
   "source": [
    "%matplotlib inline"
   ]
  },
  {
   "cell_type": "markdown",
   "metadata": {},
   "source": [
    "## Data Preparation"
   ]
  },
  {
   "cell_type": "code",
   "execution_count": 218,
   "metadata": {},
   "outputs": [],
   "source": [
    "df = pd.read_csv('Data.csv')"
   ]
  },
  {
   "cell_type": "code",
   "execution_count": 219,
   "metadata": {},
   "outputs": [
    {
     "data": {
      "text/html": [
       "<div>\n",
       "<style scoped>\n",
       "    .dataframe tbody tr th:only-of-type {\n",
       "        vertical-align: middle;\n",
       "    }\n",
       "\n",
       "    .dataframe tbody tr th {\n",
       "        vertical-align: top;\n",
       "    }\n",
       "\n",
       "    .dataframe thead th {\n",
       "        text-align: right;\n",
       "    }\n",
       "</style>\n",
       "<table border=\"1\" class=\"dataframe\">\n",
       "  <thead>\n",
       "    <tr style=\"text-align: right;\">\n",
       "      <th></th>\n",
       "      <th>Unnamed: 0</th>\n",
       "      <th>seq</th>\n",
       "      <th>Jmag</th>\n",
       "      <th>e_Jmag</th>\n",
       "      <th>Hmag</th>\n",
       "      <th>e_Hmag</th>\n",
       "      <th>Kmag</th>\n",
       "      <th>e_Kmag</th>\n",
       "      <th>chi</th>\n",
       "      <th>sharp</th>\n",
       "      <th>Jvar</th>\n",
       "      <th>Kvar</th>\n",
       "      <th>Lvar</th>\n",
       "      <th>Kamp</th>\n",
       "      <th>Var_Status</th>\n",
       "    </tr>\n",
       "  </thead>\n",
       "  <tbody>\n",
       "    <tr>\n",
       "      <th>0</th>\n",
       "      <td>1</td>\n",
       "      <td>16707</td>\n",
       "      <td>17.963</td>\n",
       "      <td>0.0701</td>\n",
       "      <td>17.133</td>\n",
       "      <td>0.0198</td>\n",
       "      <td>16.686</td>\n",
       "      <td>0.0254</td>\n",
       "      <td>1.333</td>\n",
       "      <td>0.518</td>\n",
       "      <td>3.473</td>\n",
       "      <td>0.942</td>\n",
       "      <td>4.100</td>\n",
       "      <td>0.363</td>\n",
       "      <td>1</td>\n",
       "    </tr>\n",
       "    <tr>\n",
       "      <th>1</th>\n",
       "      <td>2</td>\n",
       "      <td>18468</td>\n",
       "      <td>99.999</td>\n",
       "      <td>9.9999</td>\n",
       "      <td>99.999</td>\n",
       "      <td>9.9999</td>\n",
       "      <td>17.990</td>\n",
       "      <td>0.2634</td>\n",
       "      <td>1.535</td>\n",
       "      <td>1.131</td>\n",
       "      <td>3.934</td>\n",
       "      <td>0.920</td>\n",
       "      <td>4.535</td>\n",
       "      <td>1.462</td>\n",
       "      <td>1</td>\n",
       "    </tr>\n",
       "    <tr>\n",
       "      <th>2</th>\n",
       "      <td>3</td>\n",
       "      <td>19086</td>\n",
       "      <td>18.975</td>\n",
       "      <td>0.1687</td>\n",
       "      <td>17.968</td>\n",
       "      <td>0.2616</td>\n",
       "      <td>17.945</td>\n",
       "      <td>0.0691</td>\n",
       "      <td>0.788</td>\n",
       "      <td>-0.288</td>\n",
       "      <td>4.828</td>\n",
       "      <td>0.955</td>\n",
       "      <td>5.782</td>\n",
       "      <td>0.584</td>\n",
       "      <td>1</td>\n",
       "    </tr>\n",
       "    <tr>\n",
       "      <th>3</th>\n",
       "      <td>4</td>\n",
       "      <td>1189</td>\n",
       "      <td>20.928</td>\n",
       "      <td>0.1792</td>\n",
       "      <td>19.093</td>\n",
       "      <td>0.4665</td>\n",
       "      <td>17.567</td>\n",
       "      <td>0.0725</td>\n",
       "      <td>0.809</td>\n",
       "      <td>-0.965</td>\n",
       "      <td>5.817</td>\n",
       "      <td>0.973</td>\n",
       "      <td>7.094</td>\n",
       "      <td>0.619</td>\n",
       "      <td>1</td>\n",
       "    </tr>\n",
       "    <tr>\n",
       "      <th>4</th>\n",
       "      <td>5</td>\n",
       "      <td>18133</td>\n",
       "      <td>18.930</td>\n",
       "      <td>0.2629</td>\n",
       "      <td>18.227</td>\n",
       "      <td>0.0489</td>\n",
       "      <td>17.237</td>\n",
       "      <td>0.0903</td>\n",
       "      <td>1.425</td>\n",
       "      <td>0.847</td>\n",
       "      <td>4.114</td>\n",
       "      <td>0.940</td>\n",
       "      <td>4.845</td>\n",
       "      <td>0.761</td>\n",
       "      <td>1</td>\n",
       "    </tr>\n",
       "    <tr>\n",
       "      <th>...</th>\n",
       "      <td>...</td>\n",
       "      <td>...</td>\n",
       "      <td>...</td>\n",
       "      <td>...</td>\n",
       "      <td>...</td>\n",
       "      <td>...</td>\n",
       "      <td>...</td>\n",
       "      <td>...</td>\n",
       "      <td>...</td>\n",
       "      <td>...</td>\n",
       "      <td>...</td>\n",
       "      <td>...</td>\n",
       "      <td>...</td>\n",
       "      <td>...</td>\n",
       "      <td>...</td>\n",
       "    </tr>\n",
       "    <tr>\n",
       "      <th>4745</th>\n",
       "      <td>4746</td>\n",
       "      <td>12935</td>\n",
       "      <td>20.830</td>\n",
       "      <td>0.1582</td>\n",
       "      <td>19.834</td>\n",
       "      <td>0.1409</td>\n",
       "      <td>20.051</td>\n",
       "      <td>0.0641</td>\n",
       "      <td>1.015</td>\n",
       "      <td>2.432</td>\n",
       "      <td>0.071</td>\n",
       "      <td>0.888</td>\n",
       "      <td>0.079</td>\n",
       "      <td>99.999</td>\n",
       "      <td>0</td>\n",
       "    </tr>\n",
       "    <tr>\n",
       "      <th>4746</th>\n",
       "      <td>4747</td>\n",
       "      <td>15367</td>\n",
       "      <td>20.536</td>\n",
       "      <td>0.4705</td>\n",
       "      <td>19.584</td>\n",
       "      <td>0.2905</td>\n",
       "      <td>19.338</td>\n",
       "      <td>0.0252</td>\n",
       "      <td>0.746</td>\n",
       "      <td>-3.713</td>\n",
       "      <td>0.420</td>\n",
       "      <td>0.990</td>\n",
       "      <td>0.521</td>\n",
       "      <td>99.999</td>\n",
       "      <td>0</td>\n",
       "    </tr>\n",
       "    <tr>\n",
       "      <th>4747</th>\n",
       "      <td>4748</td>\n",
       "      <td>11339</td>\n",
       "      <td>19.968</td>\n",
       "      <td>0.1416</td>\n",
       "      <td>18.963</td>\n",
       "      <td>0.0490</td>\n",
       "      <td>18.899</td>\n",
       "      <td>0.0733</td>\n",
       "      <td>0.890</td>\n",
       "      <td>0.004</td>\n",
       "      <td>1.034</td>\n",
       "      <td>0.939</td>\n",
       "      <td>1.217</td>\n",
       "      <td>99.999</td>\n",
       "      <td>0</td>\n",
       "    </tr>\n",
       "    <tr>\n",
       "      <th>4748</th>\n",
       "      <td>4749</td>\n",
       "      <td>11641</td>\n",
       "      <td>19.034</td>\n",
       "      <td>0.0569</td>\n",
       "      <td>18.156</td>\n",
       "      <td>0.0186</td>\n",
       "      <td>17.843</td>\n",
       "      <td>0.0175</td>\n",
       "      <td>1.069</td>\n",
       "      <td>0.680</td>\n",
       "      <td>0.381</td>\n",
       "      <td>0.945</td>\n",
       "      <td>0.451</td>\n",
       "      <td>99.999</td>\n",
       "      <td>0</td>\n",
       "    </tr>\n",
       "    <tr>\n",
       "      <th>4749</th>\n",
       "      <td>4750</td>\n",
       "      <td>9494</td>\n",
       "      <td>19.623</td>\n",
       "      <td>0.0644</td>\n",
       "      <td>18.959</td>\n",
       "      <td>0.0786</td>\n",
       "      <td>18.642</td>\n",
       "      <td>0.0217</td>\n",
       "      <td>0.791</td>\n",
       "      <td>-0.393</td>\n",
       "      <td>0.179</td>\n",
       "      <td>0.946</td>\n",
       "      <td>0.213</td>\n",
       "      <td>99.999</td>\n",
       "      <td>0</td>\n",
       "    </tr>\n",
       "  </tbody>\n",
       "</table>\n",
       "<p>4750 rows × 15 columns</p>\n",
       "</div>"
      ],
      "text/plain": [
       "      Unnamed: 0    seq    Jmag  e_Jmag    Hmag  e_Hmag    Kmag  e_Kmag  \\\n",
       "0              1  16707  17.963  0.0701  17.133  0.0198  16.686  0.0254   \n",
       "1              2  18468  99.999  9.9999  99.999  9.9999  17.990  0.2634   \n",
       "2              3  19086  18.975  0.1687  17.968  0.2616  17.945  0.0691   \n",
       "3              4   1189  20.928  0.1792  19.093  0.4665  17.567  0.0725   \n",
       "4              5  18133  18.930  0.2629  18.227  0.0489  17.237  0.0903   \n",
       "...          ...    ...     ...     ...     ...     ...     ...     ...   \n",
       "4745        4746  12935  20.830  0.1582  19.834  0.1409  20.051  0.0641   \n",
       "4746        4747  15367  20.536  0.4705  19.584  0.2905  19.338  0.0252   \n",
       "4747        4748  11339  19.968  0.1416  18.963  0.0490  18.899  0.0733   \n",
       "4748        4749  11641  19.034  0.0569  18.156  0.0186  17.843  0.0175   \n",
       "4749        4750   9494  19.623  0.0644  18.959  0.0786  18.642  0.0217   \n",
       "\n",
       "        chi  sharp   Jvar   Kvar   Lvar    Kamp  Var_Status  \n",
       "0     1.333  0.518  3.473  0.942  4.100   0.363           1  \n",
       "1     1.535  1.131  3.934  0.920  4.535   1.462           1  \n",
       "2     0.788 -0.288  4.828  0.955  5.782   0.584           1  \n",
       "3     0.809 -0.965  5.817  0.973  7.094   0.619           1  \n",
       "4     1.425  0.847  4.114  0.940  4.845   0.761           1  \n",
       "...     ...    ...    ...    ...    ...     ...         ...  \n",
       "4745  1.015  2.432  0.071  0.888  0.079  99.999           0  \n",
       "4746  0.746 -3.713  0.420  0.990  0.521  99.999           0  \n",
       "4747  0.890  0.004  1.034  0.939  1.217  99.999           0  \n",
       "4748  1.069  0.680  0.381  0.945  0.451  99.999           0  \n",
       "4749  0.791 -0.393  0.179  0.946  0.213  99.999           0  \n",
       "\n",
       "[4750 rows x 15 columns]"
      ]
     },
     "execution_count": 219,
     "metadata": {},
     "output_type": "execute_result"
    }
   ],
   "source": [
    "df"
   ]
  },
  {
   "cell_type": "code",
   "execution_count": 220,
   "metadata": {},
   "outputs": [],
   "source": [
    "data = df[['Jmag','e_Jmag','Hmag','e_Hmag','Kmag','e_Kmag','chi','sharp','Jvar','Kvar','Lvar','Kamp','Var_Status']]"
   ]
  },
  {
   "cell_type": "code",
   "execution_count": 221,
   "metadata": {},
   "outputs": [
    {
     "data": {
      "text/html": [
       "<div>\n",
       "<style scoped>\n",
       "    .dataframe tbody tr th:only-of-type {\n",
       "        vertical-align: middle;\n",
       "    }\n",
       "\n",
       "    .dataframe tbody tr th {\n",
       "        vertical-align: top;\n",
       "    }\n",
       "\n",
       "    .dataframe thead th {\n",
       "        text-align: right;\n",
       "    }\n",
       "</style>\n",
       "<table border=\"1\" class=\"dataframe\">\n",
       "  <thead>\n",
       "    <tr style=\"text-align: right;\">\n",
       "      <th></th>\n",
       "      <th>Jmag</th>\n",
       "      <th>e_Jmag</th>\n",
       "      <th>Hmag</th>\n",
       "      <th>e_Hmag</th>\n",
       "      <th>Kmag</th>\n",
       "      <th>e_Kmag</th>\n",
       "      <th>chi</th>\n",
       "      <th>sharp</th>\n",
       "      <th>Jvar</th>\n",
       "      <th>Kvar</th>\n",
       "      <th>Lvar</th>\n",
       "      <th>Kamp</th>\n",
       "      <th>Var_Status</th>\n",
       "    </tr>\n",
       "  </thead>\n",
       "  <tbody>\n",
       "    <tr>\n",
       "      <th>0</th>\n",
       "      <td>17.963</td>\n",
       "      <td>0.0701</td>\n",
       "      <td>17.133</td>\n",
       "      <td>0.0198</td>\n",
       "      <td>16.686</td>\n",
       "      <td>0.0254</td>\n",
       "      <td>1.333</td>\n",
       "      <td>0.518</td>\n",
       "      <td>3.473</td>\n",
       "      <td>0.942</td>\n",
       "      <td>4.100</td>\n",
       "      <td>0.363</td>\n",
       "      <td>1</td>\n",
       "    </tr>\n",
       "    <tr>\n",
       "      <th>1</th>\n",
       "      <td>99.999</td>\n",
       "      <td>9.9999</td>\n",
       "      <td>99.999</td>\n",
       "      <td>9.9999</td>\n",
       "      <td>17.990</td>\n",
       "      <td>0.2634</td>\n",
       "      <td>1.535</td>\n",
       "      <td>1.131</td>\n",
       "      <td>3.934</td>\n",
       "      <td>0.920</td>\n",
       "      <td>4.535</td>\n",
       "      <td>1.462</td>\n",
       "      <td>1</td>\n",
       "    </tr>\n",
       "    <tr>\n",
       "      <th>2</th>\n",
       "      <td>18.975</td>\n",
       "      <td>0.1687</td>\n",
       "      <td>17.968</td>\n",
       "      <td>0.2616</td>\n",
       "      <td>17.945</td>\n",
       "      <td>0.0691</td>\n",
       "      <td>0.788</td>\n",
       "      <td>-0.288</td>\n",
       "      <td>4.828</td>\n",
       "      <td>0.955</td>\n",
       "      <td>5.782</td>\n",
       "      <td>0.584</td>\n",
       "      <td>1</td>\n",
       "    </tr>\n",
       "    <tr>\n",
       "      <th>3</th>\n",
       "      <td>20.928</td>\n",
       "      <td>0.1792</td>\n",
       "      <td>19.093</td>\n",
       "      <td>0.4665</td>\n",
       "      <td>17.567</td>\n",
       "      <td>0.0725</td>\n",
       "      <td>0.809</td>\n",
       "      <td>-0.965</td>\n",
       "      <td>5.817</td>\n",
       "      <td>0.973</td>\n",
       "      <td>7.094</td>\n",
       "      <td>0.619</td>\n",
       "      <td>1</td>\n",
       "    </tr>\n",
       "    <tr>\n",
       "      <th>4</th>\n",
       "      <td>18.930</td>\n",
       "      <td>0.2629</td>\n",
       "      <td>18.227</td>\n",
       "      <td>0.0489</td>\n",
       "      <td>17.237</td>\n",
       "      <td>0.0903</td>\n",
       "      <td>1.425</td>\n",
       "      <td>0.847</td>\n",
       "      <td>4.114</td>\n",
       "      <td>0.940</td>\n",
       "      <td>4.845</td>\n",
       "      <td>0.761</td>\n",
       "      <td>1</td>\n",
       "    </tr>\n",
       "    <tr>\n",
       "      <th>...</th>\n",
       "      <td>...</td>\n",
       "      <td>...</td>\n",
       "      <td>...</td>\n",
       "      <td>...</td>\n",
       "      <td>...</td>\n",
       "      <td>...</td>\n",
       "      <td>...</td>\n",
       "      <td>...</td>\n",
       "      <td>...</td>\n",
       "      <td>...</td>\n",
       "      <td>...</td>\n",
       "      <td>...</td>\n",
       "      <td>...</td>\n",
       "    </tr>\n",
       "    <tr>\n",
       "      <th>4745</th>\n",
       "      <td>20.830</td>\n",
       "      <td>0.1582</td>\n",
       "      <td>19.834</td>\n",
       "      <td>0.1409</td>\n",
       "      <td>20.051</td>\n",
       "      <td>0.0641</td>\n",
       "      <td>1.015</td>\n",
       "      <td>2.432</td>\n",
       "      <td>0.071</td>\n",
       "      <td>0.888</td>\n",
       "      <td>0.079</td>\n",
       "      <td>99.999</td>\n",
       "      <td>0</td>\n",
       "    </tr>\n",
       "    <tr>\n",
       "      <th>4746</th>\n",
       "      <td>20.536</td>\n",
       "      <td>0.4705</td>\n",
       "      <td>19.584</td>\n",
       "      <td>0.2905</td>\n",
       "      <td>19.338</td>\n",
       "      <td>0.0252</td>\n",
       "      <td>0.746</td>\n",
       "      <td>-3.713</td>\n",
       "      <td>0.420</td>\n",
       "      <td>0.990</td>\n",
       "      <td>0.521</td>\n",
       "      <td>99.999</td>\n",
       "      <td>0</td>\n",
       "    </tr>\n",
       "    <tr>\n",
       "      <th>4747</th>\n",
       "      <td>19.968</td>\n",
       "      <td>0.1416</td>\n",
       "      <td>18.963</td>\n",
       "      <td>0.0490</td>\n",
       "      <td>18.899</td>\n",
       "      <td>0.0733</td>\n",
       "      <td>0.890</td>\n",
       "      <td>0.004</td>\n",
       "      <td>1.034</td>\n",
       "      <td>0.939</td>\n",
       "      <td>1.217</td>\n",
       "      <td>99.999</td>\n",
       "      <td>0</td>\n",
       "    </tr>\n",
       "    <tr>\n",
       "      <th>4748</th>\n",
       "      <td>19.034</td>\n",
       "      <td>0.0569</td>\n",
       "      <td>18.156</td>\n",
       "      <td>0.0186</td>\n",
       "      <td>17.843</td>\n",
       "      <td>0.0175</td>\n",
       "      <td>1.069</td>\n",
       "      <td>0.680</td>\n",
       "      <td>0.381</td>\n",
       "      <td>0.945</td>\n",
       "      <td>0.451</td>\n",
       "      <td>99.999</td>\n",
       "      <td>0</td>\n",
       "    </tr>\n",
       "    <tr>\n",
       "      <th>4749</th>\n",
       "      <td>19.623</td>\n",
       "      <td>0.0644</td>\n",
       "      <td>18.959</td>\n",
       "      <td>0.0786</td>\n",
       "      <td>18.642</td>\n",
       "      <td>0.0217</td>\n",
       "      <td>0.791</td>\n",
       "      <td>-0.393</td>\n",
       "      <td>0.179</td>\n",
       "      <td>0.946</td>\n",
       "      <td>0.213</td>\n",
       "      <td>99.999</td>\n",
       "      <td>0</td>\n",
       "    </tr>\n",
       "  </tbody>\n",
       "</table>\n",
       "<p>4750 rows × 13 columns</p>\n",
       "</div>"
      ],
      "text/plain": [
       "        Jmag  e_Jmag    Hmag  e_Hmag    Kmag  e_Kmag    chi  sharp   Jvar  \\\n",
       "0     17.963  0.0701  17.133  0.0198  16.686  0.0254  1.333  0.518  3.473   \n",
       "1     99.999  9.9999  99.999  9.9999  17.990  0.2634  1.535  1.131  3.934   \n",
       "2     18.975  0.1687  17.968  0.2616  17.945  0.0691  0.788 -0.288  4.828   \n",
       "3     20.928  0.1792  19.093  0.4665  17.567  0.0725  0.809 -0.965  5.817   \n",
       "4     18.930  0.2629  18.227  0.0489  17.237  0.0903  1.425  0.847  4.114   \n",
       "...      ...     ...     ...     ...     ...     ...    ...    ...    ...   \n",
       "4745  20.830  0.1582  19.834  0.1409  20.051  0.0641  1.015  2.432  0.071   \n",
       "4746  20.536  0.4705  19.584  0.2905  19.338  0.0252  0.746 -3.713  0.420   \n",
       "4747  19.968  0.1416  18.963  0.0490  18.899  0.0733  0.890  0.004  1.034   \n",
       "4748  19.034  0.0569  18.156  0.0186  17.843  0.0175  1.069  0.680  0.381   \n",
       "4749  19.623  0.0644  18.959  0.0786  18.642  0.0217  0.791 -0.393  0.179   \n",
       "\n",
       "       Kvar   Lvar    Kamp  Var_Status  \n",
       "0     0.942  4.100   0.363           1  \n",
       "1     0.920  4.535   1.462           1  \n",
       "2     0.955  5.782   0.584           1  \n",
       "3     0.973  7.094   0.619           1  \n",
       "4     0.940  4.845   0.761           1  \n",
       "...     ...    ...     ...         ...  \n",
       "4745  0.888  0.079  99.999           0  \n",
       "4746  0.990  0.521  99.999           0  \n",
       "4747  0.939  1.217  99.999           0  \n",
       "4748  0.945  0.451  99.999           0  \n",
       "4749  0.946  0.213  99.999           0  \n",
       "\n",
       "[4750 rows x 13 columns]"
      ]
     },
     "execution_count": 221,
     "metadata": {},
     "output_type": "execute_result"
    }
   ],
   "source": [
    "data"
   ]
  },
  {
   "cell_type": "code",
   "execution_count": 222,
   "metadata": {},
   "outputs": [
    {
     "data": {
      "text/plain": [
       "0    4000\n",
       "1     750\n",
       "Name: Var_Status, dtype: int64"
      ]
     },
     "execution_count": 222,
     "metadata": {},
     "output_type": "execute_result"
    }
   ],
   "source": [
    "data['Var_Status'].value_counts()"
   ]
  },
  {
   "cell_type": "code",
   "execution_count": 223,
   "metadata": {},
   "outputs": [
    {
     "data": {
      "image/png": "[encoded data removed]",
      "text/plain": [
       "<Figure size 864x720 with 2 Axes>"
      ]
     },
     "metadata": {
      "needs_background": "light"
     },
     "output_type": "display_data"
    }
   ],
   "source": [
    "plt.figure(figsize = (12, 10))\n",
    "sns.heatmap(data.corr(), annot = True, cmap = 'coolwarm')\n",
    "plt.show()"
   ]
  },
  {
   "cell_type": "code",
   "execution_count": 224,
   "metadata": {},
   "outputs": [],
   "source": [
    "X = data[['Jmag','e_Jmag','Hmag','e_Hmag','Kmag','e_Kmag','chi','sharp','Jvar','Kvar','Lvar','Kamp']]\n",
    "Y = data[['Var_Status']]"
   ]
  },
  {
   "cell_type": "code",
   "execution_count": 225,
   "metadata": {},
   "outputs": [],
   "source": [
    "X_learning, X_test, Y_learning, Y_test = train_test_split(X, Y,test_size=0.2, random_state=42, stratify=Y)"
   ]
  },
  {
   "cell_type": "code",
   "execution_count": 226,
   "metadata": {},
   "outputs": [],
   "source": [
    "X_train, X_valid, Y_train, Y_valid = train_test_split(X_learning, Y_learning,test_size=0.2, random_state=42, stratify=Y_learning)"
   ]
  },
  {
   "cell_type": "code",
   "execution_count": 227,
   "metadata": {},
   "outputs": [
    {
     "data": {
      "text/plain": [
       "(3040, 12)"
      ]
     },
     "execution_count": 227,
     "metadata": {},
     "output_type": "execute_result"
    }
   ],
   "source": [
    "X_train.shape"
   ]
  },
  {
   "cell_type": "code",
   "execution_count": 228,
   "metadata": {},
   "outputs": [
    {
     "data": {
      "text/plain": [
       "(760, 12)"
      ]
     },
     "execution_count": 228,
     "metadata": {},
     "output_type": "execute_result"
    }
   ],
   "source": [
    "X_valid.shape"
   ]
  },
  {
   "cell_type": "code",
   "execution_count": 229,
   "metadata": {},
   "outputs": [
    {
     "data": {
      "text/plain": [
       "(950, 12)"
      ]
     },
     "execution_count": 229,
     "metadata": {},
     "output_type": "execute_result"
    }
   ],
   "source": [
    "X_test.shape"
   ]
  },
  {
   "cell_type": "markdown",
   "metadata": {},
   "source": [
    "## Training Classifiers"
   ]
  },
  {
   "cell_type": "markdown",
   "metadata": {},
   "source": [
    "### Naive Bayes"
   ]
  },
  {
   "cell_type": "code",
   "execution_count": 230,
   "metadata": {},
   "outputs": [],
   "source": [
    "nb = make_pipeline(StandardScaler(), GaussianNB())"
   ]
  },
  {
   "cell_type": "code",
   "execution_count": 231,
   "metadata": {},
   "outputs": [
    {
     "data": {
      "text/plain": [
       "Pipeline(steps=[('standardscaler', StandardScaler()),\n",
       "                ('gaussiannb', GaussianNB())])"
      ]
     },
     "execution_count": 231,
     "metadata": {},
     "output_type": "execute_result"
    }
   ],
   "source": [
    "nb"
   ]
  },
  {
   "cell_type": "code",
   "execution_count": 232,
   "metadata": {},
   "outputs": [
    {
     "name": "stderr",
     "output_type": "stream",
     "text": [
      "c:\\users\\youse\\appdata\\local\\programs\\python\\python38\\lib\\site-packages\\sklearn\\utils\\validation.py:985: DataConversionWarning: A column-vector y was passed when a 1d array was expected. Please change the shape of y to (n_samples, ), for example using ravel().\n",
      "  y = column_or_1d(y, warn=True)\n"
     ]
    },
    {
     "data": {
      "text/plain": [
       "Pipeline(steps=[('standardscaler', StandardScaler()),\n",
       "                ('gaussiannb', GaussianNB())])"
      ]
     },
     "execution_count": 232,
     "metadata": {},
     "output_type": "execute_result"
    }
   ],
   "source": [
    "nb.fit(X_train, Y_train)"
   ]
  },
  {
   "cell_type": "code",
   "execution_count": 233,
   "metadata": {},
   "outputs": [],
   "source": [
    "nb_valid_preds = nb.predict(X_valid)"
   ]
  },
  {
   "cell_type": "code",
   "execution_count": 234,
   "metadata": {},
   "outputs": [
    {
     "name": "stdout",
     "output_type": "stream",
     "text": [
      "              precision    recall  f1-score   support\n",
      "\n",
      "           0   1.000000  1.000000  1.000000       640\n",
      "           1   1.000000  1.000000  1.000000       120\n",
      "\n",
      "    accuracy                       1.000000       760\n",
      "   macro avg   1.000000  1.000000  1.000000       760\n",
      "weighted avg   1.000000  1.000000  1.000000       760\n",
      "\n"
     ]
    }
   ],
   "source": [
    "print(classification_report(Y_valid, nb_valid_preds, digits=6))"
   ]
  },
  {
   "cell_type": "code",
   "execution_count": 235,
   "metadata": {},
   "outputs": [
    {
     "data": {
      "image/png": "[encoded data removed]",
      "text/plain": [
       "<Figure size 432x288 with 2 Axes>"
      ]
     },
     "metadata": {
      "needs_background": "light"
     },
     "output_type": "display_data"
    }
   ],
   "source": [
    "nb_cm = confusion_matrix(Y_valid, nb_valid_preds)\n",
    "nb_cm_disp = ConfusionMatrixDisplay(nb_cm, display_labels=np.array(['Not Variable', 'Variable']))\n",
    "nb_cm_disp.plot(cmap='Blues')\n",
    "plt.show()"
   ]
  },
  {
   "cell_type": "code",
   "execution_count": null,
   "metadata": {},
   "outputs": [],
   "source": []
  },
  {
   "cell_type": "markdown",
   "metadata": {},
   "source": [
    "### KNN"
   ]
  },
  {
   "cell_type": "code",
   "execution_count": 236,
   "metadata": {},
   "outputs": [],
   "source": [
    "knn = make_pipeline(StandardScaler(), KNeighborsClassifier())"
   ]
  },
  {
   "cell_type": "code",
   "execution_count": 237,
   "metadata": {},
   "outputs": [
    {
     "data": {
      "text/plain": [
       "Pipeline(steps=[('standardscaler', StandardScaler()),\n",
       "                ('kneighborsclassifier', KNeighborsClassifier())])"
      ]
     },
     "execution_count": 237,
     "metadata": {},
     "output_type": "execute_result"
    }
   ],
   "source": [
    "knn"
   ]
  },
  {
   "cell_type": "code",
   "execution_count": 238,
   "metadata": {},
   "outputs": [],
   "source": [
    "knn_param_grid = {'kneighborsclassifier__n_neighbors':[2, 5, 10]}"
   ]
  },
  {
   "cell_type": "code",
   "execution_count": 239,
   "metadata": {},
   "outputs": [],
   "source": [
    "knn_search = GridSearchCV(knn, knn_param_grid, n_jobs=-1, cv=5)"
   ]
  },
  {
   "cell_type": "code",
   "execution_count": 240,
   "metadata": {},
   "outputs": [
    {
     "name": "stderr",
     "output_type": "stream",
     "text": [
      "c:\\users\\youse\\appdata\\local\\programs\\python\\python38\\lib\\site-packages\\sklearn\\neighbors\\_classification.py:198: DataConversionWarning: A column-vector y was passed when a 1d array was expected. Please change the shape of y to (n_samples,), for example using ravel().\n",
      "  return self._fit(X, y)\n"
     ]
    },
    {
     "data": {
      "text/plain": [
       "GridSearchCV(cv=5,\n",
       "             estimator=Pipeline(steps=[('standardscaler', StandardScaler()),\n",
       "                                       ('kneighborsclassifier',\n",
       "                                        KNeighborsClassifier())]),\n",
       "             n_jobs=-1,\n",
       "             param_grid={'kneighborsclassifier__n_neighbors': [2, 5, 10]})"
      ]
     },
     "execution_count": 240,
     "metadata": {},
     "output_type": "execute_result"
    }
   ],
   "source": [
    "knn_search.fit(X_train, Y_train)"
   ]
  },
  {
   "cell_type": "code",
   "execution_count": 241,
   "metadata": {},
   "outputs": [
    {
     "data": {
      "text/plain": [
       "{'kneighborsclassifier__n_neighbors': 5}"
      ]
     },
     "execution_count": 241,
     "metadata": {},
     "output_type": "execute_result"
    }
   ],
   "source": [
    "knn_search.best_params_"
   ]
  },
  {
   "cell_type": "code",
   "execution_count": 242,
   "metadata": {},
   "outputs": [],
   "source": [
    "knn_valid_preds = knn_search.predict(X_valid)"
   ]
  },
  {
   "cell_type": "code",
   "execution_count": 243,
   "metadata": {},
   "outputs": [
    {
     "name": "stdout",
     "output_type": "stream",
     "text": [
      "              precision    recall  f1-score   support\n",
      "\n",
      "           0   0.996885  1.000000  0.998440       640\n",
      "           1   1.000000  0.983333  0.991597       120\n",
      "\n",
      "    accuracy                       0.997368       760\n",
      "   macro avg   0.998442  0.991667  0.995018       760\n",
      "weighted avg   0.997377  0.997368  0.997359       760\n",
      "\n"
     ]
    }
   ],
   "source": [
    "print(classification_report(Y_valid, knn_valid_preds, digits=6))"
   ]
  },
  {
   "cell_type": "code",
   "execution_count": 244,
   "metadata": {},
   "outputs": [
    {
     "data": {
      "image/png": "[encoded data removed]",
      "text/plain": [
       "<Figure size 432x288 with 2 Axes>"
      ]
     },
     "metadata": {
      "needs_background": "light"
     },
     "output_type": "display_data"
    }
   ],
   "source": [
    "knn_cm = confusion_matrix(Y_valid, knn_valid_preds)\n",
    "knn_cm_disp = ConfusionMatrixDisplay(knn_cm, display_labels=np.array(['Not Variable', 'Variable']))\n",
    "knn_cm_disp.plot(cmap='Blues')\n",
    "plt.show()"
   ]
  },
  {
   "cell_type": "code",
   "execution_count": null,
   "metadata": {},
   "outputs": [],
   "source": []
  },
  {
   "cell_type": "markdown",
   "metadata": {},
   "source": [
    "### Random Forest"
   ]
  },
  {
   "cell_type": "code",
   "execution_count": 245,
   "metadata": {},
   "outputs": [],
   "source": [
    "rf = RandomForestClassifier()"
   ]
  },
  {
   "cell_type": "code",
   "execution_count": 246,
   "metadata": {},
   "outputs": [],
   "source": [
    "rf_param_grid = {'n_estimators':[10, 500, 100, 200], 'criterion': ['gini', 'entropy']}"
   ]
  },
  {
   "cell_type": "code",
   "execution_count": 247,
   "metadata": {},
   "outputs": [],
   "source": [
    "rf_search = GridSearchCV(rf, rf_param_grid, n_jobs=-1, cv=5)"
   ]
  },
  {
   "cell_type": "code",
   "execution_count": 248,
   "metadata": {},
   "outputs": [
    {
     "name": "stderr",
     "output_type": "stream",
     "text": [
      "c:\\users\\youse\\appdata\\local\\programs\\python\\python38\\lib\\site-packages\\sklearn\\model_selection\\_search.py:926: DataConversionWarning: A column-vector y was passed when a 1d array was expected. Please change the shape of y to (n_samples,), for example using ravel().\n",
      "  self.best_estimator_.fit(X, y, **fit_params)\n"
     ]
    },
    {
     "data": {
      "text/plain": [
       "GridSearchCV(cv=5, estimator=RandomForestClassifier(), n_jobs=-1,\n",
       "             param_grid={'criterion': ['gini', 'entropy'],\n",
       "                         'n_estimators': [10, 500, 100, 200]})"
      ]
     },
     "execution_count": 248,
     "metadata": {},
     "output_type": "execute_result"
    }
   ],
   "source": [
    "rf_search.fit(X_train, Y_train)"
   ]
  },
  {
   "cell_type": "code",
   "execution_count": 249,
   "metadata": {},
   "outputs": [
    {
     "data": {
      "text/plain": [
       "{'criterion': 'gini', 'n_estimators': 500}"
      ]
     },
     "execution_count": 249,
     "metadata": {},
     "output_type": "execute_result"
    }
   ],
   "source": [
    "rf_search.best_params_"
   ]
  },
  {
   "cell_type": "code",
   "execution_count": 250,
   "metadata": {},
   "outputs": [],
   "source": [
    "rf_valid_preds = rf_search.predict(X_valid)"
   ]
  },
  {
   "cell_type": "code",
   "execution_count": 251,
   "metadata": {},
   "outputs": [
    {
     "name": "stdout",
     "output_type": "stream",
     "text": [
      "              precision    recall  f1-score   support\n",
      "\n",
      "           0   1.000000  1.000000  1.000000       640\n",
      "           1   1.000000  1.000000  1.000000       120\n",
      "\n",
      "    accuracy                       1.000000       760\n",
      "   macro avg   1.000000  1.000000  1.000000       760\n",
      "weighted avg   1.000000  1.000000  1.000000       760\n",
      "\n"
     ]
    }
   ],
   "source": [
    "print(classification_report(Y_valid, rf_valid_preds, digits=6))"
   ]
  },
  {
   "cell_type": "code",
   "execution_count": 252,
   "metadata": {},
   "outputs": [
    {
     "data": {
      "image/png": "[encoded data removed]",
      "text/plain": [
       "<Figure size 432x288 with 2 Axes>"
      ]
     },
     "metadata": {
      "needs_background": "light"
     },
     "output_type": "display_data"
    }
   ],
   "source": [
    "rf_cm = confusion_matrix(Y_valid, rf_valid_preds)\n",
    "rf_cm_disp = ConfusionMatrixDisplay(rf_cm, display_labels=np.array(['Not Variable', 'Variable']))\n",
    "rf_cm_disp.plot(cmap='Blues')\n",
    "plt.show()"
   ]
  },
  {
   "cell_type": "code",
   "execution_count": null,
   "metadata": {},
   "outputs": [],
   "source": []
  },
  {
   "cell_type": "markdown",
   "metadata": {},
   "source": [
    "### SVM"
   ]
  },
  {
   "cell_type": "code",
   "execution_count": 253,
   "metadata": {},
   "outputs": [],
   "source": [
    "svc = make_pipeline(StandardScaler(), SVC())"
   ]
  },
  {
   "cell_type": "code",
   "execution_count": 254,
   "metadata": {},
   "outputs": [
    {
     "data": {
      "text/plain": [
       "Pipeline(steps=[('standardscaler', StandardScaler()), ('svc', SVC())])"
      ]
     },
     "execution_count": 254,
     "metadata": {},
     "output_type": "execute_result"
    }
   ],
   "source": [
    "svc"
   ]
  },
  {
   "cell_type": "code",
   "execution_count": 255,
   "metadata": {},
   "outputs": [],
   "source": [
    "svc_param_grid = [\n",
    "  {'svc__C': [1, 10, 100, 1000], 'svc__kernel': ['linear']},\n",
    "  {'svc__C': [1, 10, 100, 1000], 'svc__gamma': [0.001, 0.0001], 'svc__kernel': ['rbf']},\n",
    " ]"
   ]
  },
  {
   "cell_type": "code",
   "execution_count": 256,
   "metadata": {},
   "outputs": [],
   "source": [
    "svc_search = GridSearchCV(svc, svc_param_grid, n_jobs=-1, cv=5)"
   ]
  },
  {
   "cell_type": "code",
   "execution_count": 257,
   "metadata": {},
   "outputs": [
    {
     "name": "stderr",
     "output_type": "stream",
     "text": [
      "c:\\users\\youse\\appdata\\local\\programs\\python\\python38\\lib\\site-packages\\sklearn\\utils\\validation.py:985: DataConversionWarning: A column-vector y was passed when a 1d array was expected. Please change the shape of y to (n_samples, ), for example using ravel().\n",
      "  y = column_or_1d(y, warn=True)\n"
     ]
    },
    {
     "data": {
      "text/plain": [
       "GridSearchCV(cv=5,\n",
       "             estimator=Pipeline(steps=[('standardscaler', StandardScaler()),\n",
       "                                       ('svc', SVC())]),\n",
       "             n_jobs=-1,\n",
       "             param_grid=[{'svc__C': [1, 10, 100, 1000],\n",
       "                          'svc__kernel': ['linear']},\n",
       "                         {'svc__C': [1, 10, 100, 1000],\n",
       "                          'svc__gamma': [0.001, 0.0001],\n",
       "                          'svc__kernel': ['rbf']}])"
      ]
     },
     "execution_count": 257,
     "metadata": {},
     "output_type": "execute_result"
    }
   ],
   "source": [
    "svc_search.fit(X_train, Y_train)"
   ]
  },
  {
   "cell_type": "code",
   "execution_count": 258,
   "metadata": {},
   "outputs": [
    {
     "data": {
      "text/plain": [
       "{'svc__C': 1, 'svc__kernel': 'linear'}"
      ]
     },
     "execution_count": 258,
     "metadata": {},
     "output_type": "execute_result"
    }
   ],
   "source": [
    "svc_search.best_params_"
   ]
  },
  {
   "cell_type": "code",
   "execution_count": 259,
   "metadata": {},
   "outputs": [],
   "source": [
    "svc_valid_preds = svc_search.predict(X_valid)"
   ]
  },
  {
   "cell_type": "code",
   "execution_count": 260,
   "metadata": {},
   "outputs": [
    {
     "name": "stdout",
     "output_type": "stream",
     "text": [
      "              precision    recall  f1-score   support\n",
      "\n",
      "           0   1.000000  1.000000  1.000000       640\n",
      "           1   1.000000  1.000000  1.000000       120\n",
      "\n",
      "    accuracy                       1.000000       760\n",
      "   macro avg   1.000000  1.000000  1.000000       760\n",
      "weighted avg   1.000000  1.000000  1.000000       760\n",
      "\n"
     ]
    }
   ],
   "source": [
    "print(classification_report(Y_valid, svc_valid_preds, digits=6))"
   ]
  },
  {
   "cell_type": "code",
   "execution_count": 261,
   "metadata": {},
   "outputs": [
    {
     "data": {
      "image/png": "[encoded data removed]",
      "text/plain": [
       "<Figure size 432x288 with 2 Axes>"
      ]
     },
     "metadata": {
      "needs_background": "light"
     },
     "output_type": "display_data"
    }
   ],
   "source": [
    "svc_cm = confusion_matrix(Y_valid, svc_valid_preds)\n",
    "svc_cm_disp = ConfusionMatrixDisplay(svc_cm, display_labels=np.array(['Not Variable', 'Variable']))\n",
    "svc_cm_disp.plot(cmap='Blues')\n",
    "plt.show()"
   ]
  },
  {
   "cell_type": "code",
   "execution_count": null,
   "metadata": {},
   "outputs": [],
   "source": []
  },
  {
   "cell_type": "markdown",
   "metadata": {},
   "source": [
    "### Stacked Model"
   ]
  },
  {
   "cell_type": "code",
   "execution_count": 262,
   "metadata": {},
   "outputs": [],
   "source": [
    "estimators = [\n",
    "    ('rf', RandomForestClassifier(n_estimators=10, criterion='gini')),\n",
    "    ('knn', KNeighborsClassifier(n_neighbors=5)),\n",
    "    ('nb', make_pipeline(StandardScaler(), GaussianNB())),\n",
    "    ('svm', make_pipeline(StandardScaler(), SVC(C=1, kernel='linear')))\n",
    "]"
   ]
  },
  {
   "cell_type": "code",
   "execution_count": 263,
   "metadata": {},
   "outputs": [],
   "source": [
    "stacked_clf = StackingClassifier(n_jobs = -1, estimators = estimators, final_estimator = make_pipeline(StandardScaler(), SVC(random_state = 42)))"
   ]
  },
  {
   "cell_type": "code",
   "execution_count": 264,
   "metadata": {},
   "outputs": [
    {
     "name": "stderr",
     "output_type": "stream",
     "text": [
      "c:\\users\\youse\\appdata\\local\\programs\\python\\python38\\lib\\site-packages\\sklearn\\preprocessing\\_label.py:98: DataConversionWarning: A column-vector y was passed when a 1d array was expected. Please change the shape of y to (n_samples, ), for example using ravel().\n",
      "  y = column_or_1d(y, warn=True)\n",
      "c:\\users\\youse\\appdata\\local\\programs\\python\\python38\\lib\\site-packages\\sklearn\\preprocessing\\_label.py:133: DataConversionWarning: A column-vector y was passed when a 1d array was expected. Please change the shape of y to (n_samples, ), for example using ravel().\n",
      "  y = column_or_1d(y, warn=True)\n"
     ]
    },
    {
     "data": {
      "text/plain": [
       "StackingClassifier(estimators=[('rf', RandomForestClassifier(n_estimators=10)),\n",
       "                               ('knn', KNeighborsClassifier()),\n",
       "                               ('nb',\n",
       "                                Pipeline(steps=[('standardscaler',\n",
       "                                                 StandardScaler()),\n",
       "                                                ('gaussiannb', GaussianNB())])),\n",
       "                               ('svm',\n",
       "                                Pipeline(steps=[('standardscaler',\n",
       "                                                 StandardScaler()),\n",
       "                                                ('svc',\n",
       "                                                 SVC(C=1, kernel='linear'))]))],\n",
       "                   final_estimator=Pipeline(steps=[('standardscaler',\n",
       "                                                    StandardScaler()),\n",
       "                                                   ('svc',\n",
       "                                                    SVC(random_state=42))]),\n",
       "                   n_jobs=-1)"
      ]
     },
     "execution_count": 264,
     "metadata": {},
     "output_type": "execute_result"
    }
   ],
   "source": [
    "stacked_clf.fit(X_train, Y_train)"
   ]
  },
  {
   "cell_type": "code",
   "execution_count": 265,
   "metadata": {},
   "outputs": [
    {
     "name": "stderr",
     "output_type": "stream",
     "text": [
      "c:\\users\\youse\\appdata\\local\\programs\\python\\python38\\lib\\site-packages\\sklearn\\base.py:441: UserWarning: X does not have valid feature names, but KNeighborsClassifier was fitted with feature names\n",
      "  warnings.warn(\n"
     ]
    }
   ],
   "source": [
    "stacked_clf_valid_preds = stacked_clf.predict(X_valid)"
   ]
  },
  {
   "cell_type": "code",
   "execution_count": 266,
   "metadata": {},
   "outputs": [
    {
     "name": "stdout",
     "output_type": "stream",
     "text": [
      "              precision    recall  f1-score   support\n",
      "\n",
      "           0   1.000000  1.000000  1.000000       640\n",
      "           1   1.000000  1.000000  1.000000       120\n",
      "\n",
      "    accuracy                       1.000000       760\n",
      "   macro avg   1.000000  1.000000  1.000000       760\n",
      "weighted avg   1.000000  1.000000  1.000000       760\n",
      "\n"
     ]
    }
   ],
   "source": [
    "print(classification_report(Y_valid, stacked_clf_valid_preds, digits=6))"
   ]
  },
  {
   "cell_type": "code",
   "execution_count": 267,
   "metadata": {},
   "outputs": [
    {
     "data": {
      "image/png": "[encoded data removed]",
      "text/plain": [
       "<Figure size 432x288 with 2 Axes>"
      ]
     },
     "metadata": {
      "needs_background": "light"
     },
     "output_type": "display_data"
    }
   ],
   "source": [
    "stacked_clf_cm = confusion_matrix(Y_valid, stacked_clf_valid_preds)\n",
    "stacked_clf_cm_disp = ConfusionMatrixDisplay(stacked_clf_cm, display_labels=np.array(['Not Variable', 'Variable']))\n",
    "stacked_clf_cm_disp.plot(cmap='Blues')\n",
    "plt.show()"
   ]
  },
  {
   "cell_type": "code",
   "execution_count": null,
   "metadata": {},
   "outputs": [],
   "source": []
  },
  {
   "cell_type": "markdown",
   "metadata": {},
   "source": [
    "## Test Set Predictions"
   ]
  },
  {
   "cell_type": "markdown",
   "metadata": {},
   "source": [
    "### Naive Bayes"
   ]
  },
  {
   "cell_type": "code",
   "execution_count": 268,
   "metadata": {},
   "outputs": [
    {
     "name": "stdout",
     "output_type": "stream",
     "text": [
      "              precision    recall  f1-score   support\n",
      "\n",
      "           0   1.000000  1.000000  1.000000       800\n",
      "           1   1.000000  1.000000  1.000000       150\n",
      "\n",
      "    accuracy                       1.000000       950\n",
      "   macro avg   1.000000  1.000000  1.000000       950\n",
      "weighted avg   1.000000  1.000000  1.000000       950\n",
      "\n"
     ]
    }
   ],
   "source": [
    "nb_test_preds = nb.predict(X_test)\n",
    "print(classification_report(Y_test, nb_test_preds, digits=6))"
   ]
  },
  {
   "cell_type": "code",
   "execution_count": 269,
   "metadata": {},
   "outputs": [
    {
     "data": {
      "image/png": "[encoded data removed]",
      "text/plain": [
       "<Figure size 432x288 with 2 Axes>"
      ]
     },
     "metadata": {
      "needs_background": "light"
     },
     "output_type": "display_data"
    }
   ],
   "source": [
    "nb_test_cm = confusion_matrix(Y_test, nb_test_preds)\n",
    "nb_test_cm_disp = ConfusionMatrixDisplay(nb_test_cm, display_labels=np.array(['Not Variable', 'Variable']))\n",
    "nb_test_cm_disp.plot(cmap='Blues')\n",
    "plt.show()"
   ]
  },
  {
   "cell_type": "code",
   "execution_count": null,
   "metadata": {},
   "outputs": [],
   "source": []
  },
  {
   "cell_type": "markdown",
   "metadata": {},
   "source": [
    "## KNN"
   ]
  },
  {
   "cell_type": "code",
   "execution_count": 270,
   "metadata": {},
   "outputs": [
    {
     "name": "stdout",
     "output_type": "stream",
     "text": [
      "              precision    recall  f1-score   support\n",
      "\n",
      "           0   1.000000  0.998750  0.999375       800\n",
      "           1   0.993377  1.000000  0.996678       150\n",
      "\n",
      "    accuracy                       0.998947       950\n",
      "   macro avg   0.996689  0.999375  0.998026       950\n",
      "weighted avg   0.998954  0.998947  0.998949       950\n",
      "\n"
     ]
    }
   ],
   "source": [
    "knn_test_preds = knn_search.predict(X_test)\n",
    "print(classification_report(Y_test, knn_test_preds, digits=6))"
   ]
  },
  {
   "cell_type": "code",
   "execution_count": 271,
   "metadata": {},
   "outputs": [
    {
     "data": {
      "image/png": "[encoded data removed]",
      "text/plain": [
       "<Figure size 432x288 with 2 Axes>"
      ]
     },
     "metadata": {
      "needs_background": "light"
     },
     "output_type": "display_data"
    }
   ],
   "source": [
    "knn_test_cm = confusion_matrix(Y_test, knn_test_preds)\n",
    "knn_test_cm_disp = ConfusionMatrixDisplay(knn_test_cm, display_labels=np.array(['Not Variable', 'Variable']))\n",
    "knn_test_cm_disp.plot(cmap='Blues')\n",
    "plt.show()"
   ]
  },
  {
   "cell_type": "code",
   "execution_count": null,
   "metadata": {},
   "outputs": [],
   "source": []
  },
  {
   "cell_type": "markdown",
   "metadata": {},
   "source": [
    "### Random Forest"
   ]
  },
  {
   "cell_type": "code",
   "execution_count": 272,
   "metadata": {},
   "outputs": [
    {
     "name": "stdout",
     "output_type": "stream",
     "text": [
      "              precision    recall  f1-score   support\n",
      "\n",
      "           0   1.000000  1.000000  1.000000       800\n",
      "           1   1.000000  1.000000  1.000000       150\n",
      "\n",
      "    accuracy                       1.000000       950\n",
      "   macro avg   1.000000  1.000000  1.000000       950\n",
      "weighted avg   1.000000  1.000000  1.000000       950\n",
      "\n"
     ]
    }
   ],
   "source": [
    "rf_test_preds = rf_search.predict(X_test)\n",
    "print(classification_report(Y_test, rf_test_preds, digits=6))"
   ]
  },
  {
   "cell_type": "code",
   "execution_count": 273,
   "metadata": {},
   "outputs": [
    {
     "data": {
      "image/png": "[encoded data removed]",
      "text/plain": [
       "<Figure size 432x288 with 2 Axes>"
      ]
     },
     "metadata": {
      "needs_background": "light"
     },
     "output_type": "display_data"
    }
   ],
   "source": [
    "rf_test_cm = confusion_matrix(Y_test, rf_test_preds)\n",
    "rf_test_cm_disp = ConfusionMatrixDisplay(rf_test_cm, display_labels=np.array(['Not Variable', 'Variable']))\n",
    "rf_test_cm_disp.plot(cmap='Blues')\n",
    "plt.show()"
   ]
  },
  {
   "cell_type": "code",
   "execution_count": null,
   "metadata": {},
   "outputs": [],
   "source": []
  },
  {
   "cell_type": "markdown",
   "metadata": {},
   "source": [
    "### SVM"
   ]
  },
  {
   "cell_type": "code",
   "execution_count": 274,
   "metadata": {},
   "outputs": [
    {
     "name": "stdout",
     "output_type": "stream",
     "text": [
      "              precision    recall  f1-score   support\n",
      "\n",
      "           0   1.000000  1.000000  1.000000       800\n",
      "           1   1.000000  1.000000  1.000000       150\n",
      "\n",
      "    accuracy                       1.000000       950\n",
      "   macro avg   1.000000  1.000000  1.000000       950\n",
      "weighted avg   1.000000  1.000000  1.000000       950\n",
      "\n"
     ]
    }
   ],
   "source": [
    "svc_test_preds = svc_search.predict(X_test)\n",
    "print(classification_report(Y_test, svc_test_preds, digits=6))"
   ]
  },
  {
   "cell_type": "code",
   "execution_count": 275,
   "metadata": {},
   "outputs": [
    {
     "data": {
      "image/png": "[encoded data removed]",
      "text/plain": [
       "<Figure size 432x288 with 2 Axes>"
      ]
     },
     "metadata": {
      "needs_background": "light"
     },
     "output_type": "display_data"
    }
   ],
   "source": [
    "svc_test_cm = confusion_matrix(Y_test, svc_test_preds)\n",
    "svc_test_cm_disp = ConfusionMatrixDisplay(svc_test_cm, display_labels=np.array(['Not Variable', 'Variable']))\n",
    "svc_test_cm_disp.plot(cmap='Blues')\n",
    "plt.show()"
   ]
  },
  {
   "cell_type": "code",
   "execution_count": null,
   "metadata": {},
   "outputs": [],
   "source": []
  },
  {
   "cell_type": "markdown",
   "metadata": {},
   "source": [
    "### Stacked Model"
   ]
  },
  {
   "cell_type": "code",
   "execution_count": 276,
   "metadata": {},
   "outputs": [
    {
     "name": "stdout",
     "output_type": "stream",
     "text": [
      "              precision    recall  f1-score   support\n",
      "\n",
      "           0   1.000000  1.000000  1.000000       800\n",
      "           1   1.000000  1.000000  1.000000       150\n",
      "\n",
      "    accuracy                       1.000000       950\n",
      "   macro avg   1.000000  1.000000  1.000000       950\n",
      "weighted avg   1.000000  1.000000  1.000000       950\n",
      "\n"
     ]
    },
    {
     "name": "stderr",
     "output_type": "stream",
     "text": [
      "c:\\users\\youse\\appdata\\local\\programs\\python\\python38\\lib\\site-packages\\sklearn\\base.py:441: UserWarning: X does not have valid feature names, but KNeighborsClassifier was fitted with feature names\n",
      "  warnings.warn(\n"
     ]
    }
   ],
   "source": [
    "stacked_clf_test_preds = stacked_clf.predict(X_test)\n",
    "print(classification_report(Y_test, stacked_clf_test_preds, digits=6))"
   ]
  },
  {
   "cell_type": "code",
   "execution_count": 277,
   "metadata": {},
   "outputs": [
    {
     "data": {
      "image/png": "[encoded data removed]",
      "text/plain": [
       "<Figure size 432x288 with 2 Axes>"
      ]
     },
     "metadata": {
      "needs_background": "light"
     },
     "output_type": "display_data"
    }
   ],
   "source": [
    "stacked_clf_test_cm = confusion_matrix(Y_test, stacked_clf_test_preds)\n",
    "stacked_clf_test_cm_disp = ConfusionMatrixDisplay(stacked_clf_test_cm, display_labels=np.array(['Not Variable', 'Variable']))\n",
    "stacked_clf_test_cm_disp.plot(cmap='Blues')\n",
    "plt.show()"
   ]
  }
 ],
 "metadata": {
  "kernelspec": {
   "display_name": "Python 3",
   "language": "python",
   "name": "python3"
  },
  "language_info": {
   "codemirror_mode": {
    "name": "ipython",
    "version": 3
   },
   "file_extension": ".py",
   "mimetype": "text/x-python",
   "name": "python",
   "nbconvert_exporter": "python",
   "pygments_lexer": "ipython3",
   "version": "3.8.5"
  }
 },
 "nbformat": 4,
 "nbformat_minor": 4
}
